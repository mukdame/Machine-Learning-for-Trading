{
  "nbformat": 4,
  "nbformat_minor": 0,
  "metadata": {
    "kernelspec": {
      "display_name": "Python 3",
      "language": "python",
      "name": "python3"
    },
    "language_info": {
      "codemirror_mode": {
        "name": "ipython",
        "version": 3
      },
      "file_extension": ".py",
      "mimetype": "text/x-python",
      "name": "python",
      "nbconvert_exporter": "python",
      "pygments_lexer": "ipython3",
      "version": "3.5.3"
    },
    "colab": {
      "name": "aapl_regression_scikit_learn.ipynb",
      "provenance": [],
      "include_colab_link": true
    }
  },
  "cells": [
    {
      "cell_type": "markdown",
      "metadata": {
        "id": "view-in-github",
        "colab_type": "text"
      },
      "source": [
        "<a href=\"https://colab.research.google.com/github/mukdame/Trading/blob/master/aapl_regression_scikit_learn.ipynb\" target=\"_parent\"><img src=\"https://colab.research.google.com/assets/colab-badge.svg\" alt=\"Open In Colab\"/></a>"
      ]
    },
    {
      "cell_type": "markdown",
      "metadata": {
        "id": "myAkK_EhlLcL",
        "colab_type": "text"
      },
      "source": [
        "# Building a Regression Model for a Financial Dataset\n",
        "\n",
        "In this notebook, you will build a simple linear regression model to predict the closing AAPL stock price. The lab objectives are:\n",
        "* Pull data from BigQuery into a Pandas dataframe\n",
        "* Use Matplotlib to visualize data\n",
        "* Use Scikit-Learn to build a regression model"
      ]
    },
    {
      "cell_type": "code",
      "metadata": {
        "id": "TlJdahScmKar",
        "colab_type": "code",
        "colab": {}
      },
      "source": [
        "# %%bash\n",
        "\n",
        "# bq mk -d ai4f\n",
        "\n",
        "# bq load --autodetect --source_format=CSV ai4f.AAPL10Y gs://\n",
        "# cloud-training/ai4f/AAPL10Y.csv"
      ],
      "execution_count": 0,
      "outputs": []
    },
    {
      "cell_type": "code",
      "metadata": {
        "id": "29a8ceoolLcP",
        "colab_type": "code",
        "colab": {}
      },
      "source": [
        "%matplotlib inline\n",
        "\n",
        "import pandas as pd\n",
        "import matplotlib.pyplot as plt\n",
        "import numpy as np\n",
        "from sklearn import linear_model\n",
        "from sklearn.metrics import mean_squared_error\n",
        "from sklearn.metrics import r2_score\n",
        "\n",
        "plt.rc('figure', figsize=(12, 8.0))"
      ],
      "execution_count": 0,
      "outputs": []
    },
    {
      "cell_type": "markdown",
      "metadata": {
        "id": "2OlpiVJXlLcR",
        "colab_type": "text"
      },
      "source": [
        "## Pull Data from BigQuery\n",
        "\n",
        "In this section we'll use a magic function to query a BigQuery table and then store the output in a Pandas dataframe. A magic function is just an alias to perform a system command. To see documentation on the \"bigquery\" magic function execute the following cell:"
      ]
    },
    {
      "cell_type": "code",
      "metadata": {
        "id": "TNvu98VxlLcS",
        "colab_type": "code",
        "colab": {}
      },
      "source": [
        "# %%bigquery?"
      ],
      "execution_count": 0,
      "outputs": []
    },
    {
      "cell_type": "markdown",
      "metadata": {
        "id": "1b54RM4VlLcU",
        "colab_type": "text"
      },
      "source": [
        "The query below selects everything you'll need to build a regression model to predict the closing price of AAPL stock. The model will be very simple for the purposes of demonstrating BQML functionality. The only features you'll use as input into the model are the previous day's closing price and a three day trend value. The trend value can only take on two values, either -1 or +1. If the AAPL stock price has increased over any two of the previous three days then the trend will be +1. Otherwise, the trend value will be -1.\n",
        "\n",
        "Note, the features you'll need can be generated from the raw table `ai4f.AAPL10Y` using Pandas functions. However, it's better to take advantage of the serverless-ness of BigQuery to do the data pre-processing rather than applying the necessary transformations locally.  "
      ]
    },
    {
      "cell_type": "code",
      "metadata": {
        "id": "q5H9GRh4lLcU",
        "colab_type": "code",
        "colab": {}
      },
      "source": [
        "# %%bigquery df\n",
        "# WITH\n",
        "#   raw AS (\n",
        "#   SELECT\n",
        "#     date,\n",
        "#     close,\n",
        "#     LAG(close, 1) OVER(ORDER BY date) AS min_1_close,\n",
        "#     LAG(close, 2) OVER(ORDER BY date) AS min_2_close,\n",
        "#     LAG(close, 3) OVER(ORDER BY date) AS min_3_close,\n",
        "#     LAG(close, 4) OVER(ORDER BY date) AS min_4_close\n",
        "#   FROM\n",
        "#     `ai4f.AAPL10Y`\n",
        "#   ORDER BY\n",
        "#     date DESC ),\n",
        "#   raw_plus_trend AS (\n",
        "#   SELECT\n",
        "#     date,\n",
        "#     close,\n",
        "#     min_1_close,\n",
        "#     IF (min_1_close - min_2_close > 0, 1, -1) AS min_1_trend,\n",
        "#     IF (min_2_close - min_3_close > 0, 1, -1) AS min_2_trend,\n",
        "#     IF (min_3_close - min_4_close > 0, 1, -1) AS min_3_trend\n",
        "#   FROM\n",
        "#     raw ),\n",
        "#   train_data AS (\n",
        "#   SELECT\n",
        "#     date,\n",
        "#     close,\n",
        "#     min_1_close AS day_prev_close,\n",
        "#     IF (min_1_trend + min_2_trend + min_3_trend > 0, 1, -1) AS trend_3_day\n",
        "#   FROM\n",
        "#     raw_plus_trend\n",
        "#   ORDER BY\n",
        "#     date ASC )\n",
        "# SELECT\n",
        "#   *\n",
        "# FROM\n",
        "#   train_data"
      ],
      "execution_count": 0,
      "outputs": []
    },
    {
      "cell_type": "markdown",
      "metadata": {
        "id": "B6c1Y-vhlLcW",
        "colab_type": "text"
      },
      "source": [
        "View the first five rows of the query's output. Note that the object `df` containing the query output is a Pandas Dataframe."
      ]
    },
    {
      "cell_type": "code",
      "metadata": {
        "id": "2Aih2UMplLcX",
        "colab_type": "code",
        "colab": {}
      },
      "source": [
        "# print(type(df))\n",
        "# df.dropna(inplace=True)\n",
        "# df.head()"
      ],
      "execution_count": 0,
      "outputs": []
    },
    {
      "cell_type": "code",
      "metadata": {
        "id": "_K16zwOKlLcZ",
        "colab_type": "code",
        "colab": {},
        "outputId": "fc41ac8b-7953-445d-c8bd-5e8adcfe5422"
      },
      "source": [
        "print(df)\n",
        "import os\n",
        "cwd = os.getcwd()\n",
        "print(cwd)\n",
        "export_csv = df.to_csv (r'/home/jupyter/training-data-analyst/courses/ai-for-finance/practice/AAPL_Stock.csv', index = None, header=True)"
      ],
      "execution_count": 0,
      "outputs": [
        {
          "output_type": "stream",
          "text": [
            "            date     close  day_prev_close  trend_3_day\n",
            "1     2009-06-04   20.5343         20.1357           -1\n",
            "2     2009-06-05   20.6671         20.5343           -1\n",
            "3     2009-06-08   20.5500         20.6671            1\n",
            "4     2009-06-09   20.3886         20.5500            1\n",
            "5     2009-06-10   20.0357         20.3886           -1\n",
            "...          ...       ...             ...          ...\n",
            "2512  2019-05-28  178.2300        178.9700           -1\n",
            "2513  2019-05-29  177.3800        178.2300           -1\n",
            "2514  2019-05-30  178.3000        177.3800           -1\n",
            "2515  2019-05-31  175.0700        178.3000           -1\n",
            "2516  2019-06-03  173.3000        175.0700           -1\n",
            "\n",
            "[2516 rows x 4 columns]\n",
            "/home/jupyter/training-data-analyst/courses/ai-for-finance/practice\n"
          ],
          "name": "stdout"
        }
      ]
    },
    {
      "cell_type": "markdown",
      "metadata": {
        "id": "QGZQ_bN-lLcb",
        "colab_type": "text"
      },
      "source": [
        "## Visualize data"
      ]
    },
    {
      "cell_type": "markdown",
      "metadata": {
        "id": "qzHZeS6llLcc",
        "colab_type": "text"
      },
      "source": [
        "The simplest plot you can make is to show the closing stock price as a time series. Pandas DataFrames have built in plotting funtionality based on Matplotlib. "
      ]
    },
    {
      "cell_type": "code",
      "metadata": {
        "id": "DzRJTZgUlLcd",
        "colab_type": "code",
        "colab": {},
        "outputId": "6529d453-4bdd-4063-e470-c57303d6dca4"
      },
      "source": [
        "df.plot(x='date', y='close');"
      ],
      "execution_count": 0,
      "outputs": [
        {
          "output_type": "display_data",
          "data": {
            "image/png": "[encoded data removed]",
            "text/plain": [
              "<Figure size 864x576 with 1 Axes>"
            ]
          },
          "metadata": {
            "tags": [],
            "needs_background": "light"
          }
        }
      ]
    },
    {
      "cell_type": "markdown",
      "metadata": {
        "id": "PCVdXjy4lLce",
        "colab_type": "text"
      },
      "source": [
        "You can also embed the `trend_3_day` variable into the time series above. "
      ]
    },
    {
      "cell_type": "code",
      "metadata": {
        "id": "-dW6CnwnlLcf",
        "colab_type": "code",
        "colab": {},
        "outputId": "1979acff-e5d9-4678-a2dc-6eff4c848bd5"
      },
      "source": [
        "start_date = '2018-06-01'\n",
        "end_date = '2018-07-31'\n",
        "\n",
        "plt.plot(\n",
        "    'date', 'close', 'k--',\n",
        "    data = (\n",
        "        df.loc[pd.to_datetime(df.date).between(start_date, end_date)]\n",
        "    )\n",
        ")\n",
        "\n",
        "plt.scatter(\n",
        "    'date', 'close', color='b', label='pos trend', \n",
        "    data = (\n",
        "        df.loc[df.trend_3_day == 1 & pd.to_datetime(df.date).between(start_date, end_date)]\n",
        "    )\n",
        ")\n",
        "\n",
        "plt.scatter(\n",
        "    'date', 'close', color='r', label='neg trend',\n",
        "    data = (\n",
        "        df.loc[(df.trend_3_day == -1) & pd.to_datetime(df.date).between(start_date, end_date)]\n",
        "    )\n",
        ")\n",
        "\n",
        "plt.legend()\n",
        "plt.xticks(rotation = 90);"
      ],
      "execution_count": 0,
      "outputs": [
        {
          "output_type": "display_data",
          "data": {
            "image/png": "[encoded data removed]",
            "text/plain": [
              "<Figure size 864x576 with 1 Axes>"
            ]
          },
          "metadata": {
            "tags": [],
            "needs_background": "light"
          }
        }
      ]
    },
    {
      "cell_type": "code",
      "metadata": {
        "id": "SGBTpiDclLch",
        "colab_type": "code",
        "colab": {},
        "outputId": "a86301d3-82d2-4b97-fb2a-23527a53ad0f"
      },
      "source": [
        "df.shape"
      ],
      "execution_count": 0,
      "outputs": [
        {
          "output_type": "execute_result",
          "data": {
            "text/plain": [
              "(2516, 4)"
            ]
          },
          "metadata": {
            "tags": []
          },
          "execution_count": 16
        }
      ]
    },
    {
      "cell_type": "markdown",
      "metadata": {
        "id": "1qKva1filLcj",
        "colab_type": "text"
      },
      "source": [
        "## Build a Regression Model in Scikit-Learn"
      ]
    },
    {
      "cell_type": "markdown",
      "metadata": {
        "id": "BmqCFcaslLcj",
        "colab_type": "text"
      },
      "source": [
        "In this section you'll train a linear regression model to predict AAPL closing prices when given the previous day's closing price `day_prev_close` and the three day trend `trend_3_day`. A training set and test set are created by sequentially splitting the data after 2000 rows. "
      ]
    },
    {
      "cell_type": "code",
      "metadata": {
        "id": "1r_lcL8klLck",
        "colab_type": "code",
        "colab": {}
      },
      "source": [
        "features = ['day_prev_close', 'trend_3_day']\n",
        "target = 'close'\n",
        "\n",
        "X_train, X_test = df.loc[:2000, features], df.loc[2000:, features]\n",
        "y_train, y_test = df.loc[:2000, target], df.loc[2000:, target]"
      ],
      "execution_count": 0,
      "outputs": []
    },
    {
      "cell_type": "code",
      "metadata": {
        "id": "ZKYY4y8BlLcn",
        "colab_type": "code",
        "colab": {}
      },
      "source": [
        "# Create linear regression object. Don't include an intercept,\n",
        "# TODO\n",
        "# See this example https://scikit-learn.org/stable/auto_examples/linear_model/plot_ols.html#sphx-glr-auto-examples-linear-model-plot-ols-py\n",
        "from sklearn.linear_model import LinearRegression\n",
        "regr = LinearRegression()"
      ],
      "execution_count": 0,
      "outputs": []
    },
    {
      "cell_type": "code",
      "metadata": {
        "id": "PMn8OD8tlLcp",
        "colab_type": "code",
        "colab": {},
        "outputId": "66e63f26-09be-441a-ea4f-9af679f04808"
      },
      "source": [
        "# Train the model using the training set\n",
        "# TODO\n",
        "regr.fit(X_train, y_train)"
      ],
      "execution_count": 0,
      "outputs": [
        {
          "output_type": "execute_result",
          "data": {
            "text/plain": [
              "LinearRegression(copy_X=True, fit_intercept=True, n_jobs=None, normalize=False)"
            ]
          },
          "metadata": {
            "tags": []
          },
          "execution_count": 34
        }
      ]
    },
    {
      "cell_type": "code",
      "metadata": {
        "id": "EaBxF_6ylLcs",
        "colab_type": "code",
        "colab": {}
      },
      "source": [
        "# Make predictions using the testing set\n",
        "# TODO\n",
        "y_pred = regr.predict(X_test)\n",
        "ind = range(2000,2517)\n",
        "y_pred = pd.Series(y_pred, index=ind)"
      ],
      "execution_count": 0,
      "outputs": []
    },
    {
      "cell_type": "code",
      "metadata": {
        "id": "_0623vGblLcw",
        "colab_type": "code",
        "colab": {},
        "outputId": "449800a5-2cb3-45d4-a30a-9440a83ec7d0"
      },
      "source": [
        "# Print the root mean squared error of your predictions\n",
        "# TODO\n",
        "# RMSE squared set to False\n",
        "from sklearn.metrics import mean_squared_error, r2_score\n",
        "print('Root Mean squared error: %.2f' % mean_squared_error(y_test, y_pred, squared=False))"
      ],
      "execution_count": 0,
      "outputs": [
        {
          "output_type": "stream",
          "text": [
            "Root Mean squared error: 2.98\n"
          ],
          "name": "stdout"
        }
      ]
    },
    {
      "cell_type": "code",
      "metadata": {
        "id": "QV6nTXlnlLcy",
        "colab_type": "code",
        "colab": {},
        "outputId": "19053d8f-feeb-4b61-952c-b348b4b7b29a"
      },
      "source": [
        "# Print the variance score (1 is perfect prediction)\n",
        "# TODO\n",
        "\n",
        "# The coefficients\n",
        "print('Coefficients: \\n', regr.coef_)\n",
        "print('Coefficient of determination: %.2f' % r2_score(y_test, y_pred))"
      ],
      "execution_count": 0,
      "outputs": [
        {
          "output_type": "stream",
          "text": [
            "Coefficients: \n",
            " [0.99988139 0.02883265]\n",
            "Coefficient of determination: 0.98\n"
          ],
          "name": "stdout"
        }
      ]
    },
    {
      "cell_type": "code",
      "metadata": {
        "id": "L5oDfQI_lLc1",
        "colab_type": "code",
        "colab": {},
        "outputId": "b3665e32-0fbf-4f44-8bc8-21c0637dcb8b"
      },
      "source": [
        "print(type(y_train))\n",
        "print(type(y_test))\n",
        "print(type(y_pred))\n",
        "print(y_test[2000])\n",
        "print(y_train, y_test, y_pred)"
      ],
      "execution_count": 0,
      "outputs": [
        {
          "output_type": "stream",
          "text": [
            "<class 'pandas.core.series.Series'>\n",
            "<class 'pandas.core.series.Series'>\n",
            "<class 'pandas.core.series.Series'>\n",
            "156.1\n",
            "1        20.5343\n",
            "2        20.6671\n",
            "3        20.5500\n",
            "4        20.3886\n",
            "5        20.0357\n",
            "          ...   \n",
            "1996    153.0100\n",
            "1997    153.9900\n",
            "1998    153.2600\n",
            "1999    153.9500\n",
            "2000    156.1000\n",
            "Name: close, Length: 2000, dtype: float64 2000    156.10\n",
            "2001    155.70\n",
            "2002    155.47\n",
            "2003    150.25\n",
            "2004    152.54\n",
            "         ...  \n",
            "2512    178.23\n",
            "2513    177.38\n",
            "2514    178.30\n",
            "2515    175.07\n",
            "2516    173.30\n",
            "Name: close, Length: 517, dtype: float64 2000    154.036009\n",
            "2001    156.185754\n",
            "2002    155.785802\n",
            "2003    155.498164\n",
            "2004    150.278783\n",
            "           ...    \n",
            "2512    178.995377\n",
            "2513    178.255464\n",
            "2514    177.405565\n",
            "2515    178.325456\n",
            "2516    175.095839\n",
            "Length: 517, dtype: float64\n"
          ],
          "name": "stdout"
        }
      ]
    },
    {
      "cell_type": "code",
      "metadata": {
        "id": "A5zuA_JulLc3",
        "colab_type": "code",
        "colab": {},
        "outputId": "ec7c3682-6bf5-46a6-9cde-5397da5fcbba"
      },
      "source": [
        "# Plot the predicted values against their corresponding true values\n",
        "# TODO\n",
        "import matplotlib.pyplot as plt\n",
        "\n",
        "plt.scatter(y_test.index, y_test.values, color='black', marker='+', linewidth=3)\n",
        "plt.scatter(y_pred.index, y_test.values, color='red', marker=\"+\", linewidth=1)\n",
        "plt.show()"
      ],
      "execution_count": 0,
      "outputs": [
        {
          "output_type": "display_data",
          "data": {
            "image/png": "[encoded data removed]",
            "text/plain": [
              "<Figure size 864x576 with 1 Axes>"
            ]
          },
          "metadata": {
            "tags": [],
            "needs_background": "light"
          }
        }
      ]
    },
    {
      "cell_type": "markdown",
      "metadata": {
        "id": "g5zIPPcglLc4",
        "colab_type": "text"
      },
      "source": [
        "The model's predictions are more or less in line with the truth. However, the utility of the model depends on the business context (i.e. you won't be making any money with this model). It's fair to question whether the variable `trend_3_day` even adds to the performance of the model:"
      ]
    },
    {
      "cell_type": "code",
      "metadata": {
        "id": "8bMvySa-lLc5",
        "colab_type": "code",
        "colab": {},
        "outputId": "3dfcef8c-0616-45e5-cc50-db6ab49ff068"
      },
      "source": [
        "print('Root Mean Squared Error: {0:.2f}'.format(np.sqrt(mean_squared_error(y_test, X_test.day_prev_close))))"
      ],
      "execution_count": 0,
      "outputs": [
        {
          "output_type": "stream",
          "text": [
            "Root Mean Squared Error: 2.98\n"
          ],
          "name": "stdout"
        }
      ]
    },
    {
      "cell_type": "markdown",
      "metadata": {
        "id": "mF4NOkq4lLc6",
        "colab_type": "text"
      },
      "source": [
        "Indeed, the RMSE is actually lower if we simply use the previous day's closing value as a prediction! Does increasing the number of days included in the trend improve the model? Feel free to create new features and attempt to improve model performance!"
      ]
    }
  ]
}